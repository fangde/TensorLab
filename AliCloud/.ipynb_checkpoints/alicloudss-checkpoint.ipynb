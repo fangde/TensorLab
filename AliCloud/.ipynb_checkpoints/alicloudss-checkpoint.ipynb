{
 "cells": [
  {
   "cell_type": "code",
   "execution_count": 6,
   "metadata": {},
   "outputs": [],
   "source": [
    "import oss2\n",
    "import tablestore\n",
    "\n",
    "keyid='LTAIcqoCdYnQNZVL'\n",
    "key='Bvz5gCXhtS5TDnN4Bd0zZngc0dffC8'"
   ]
  },
  {
   "cell_type": "code",
   "execution_count": 7,
   "metadata": {
    "collapsed": true
   },
   "outputs": [],
   "source": [
    "from tablestore import *\n",
    "\n"
   ]
  },
  {
   "cell_type": "code",
   "execution_count": 9,
   "metadata": {
    "collapsed": true
   },
   "outputs": [],
   "source": [
    "auth=oss2.Auth(keyid,key)\n",
    "endpoint = 'http://oss-cn-hangzhou.aliyuncs.com'\n",
    "\n",
    "bucket = oss2.Bucket(auth, endpoint, 'fangdebackup')\n",
    "\n",
    "\n"
   ]
  }
 ],
 "metadata": {
  "kernelspec": {
   "display_name": "Python [default]",
   "language": "python",
   "name": "python2"
  },
  "language_info": {
   "codemirror_mode": {
    "name": "ipython",
    "version": 2
   },
   "file_extension": ".py",
   "mimetype": "text/x-python",
   "name": "python",
   "nbconvert_exporter": "python",
   "pygments_lexer": "ipython2",
   "version": "2.7.13"
  }
 },
 "nbformat": 4,
 "nbformat_minor": 2
}
