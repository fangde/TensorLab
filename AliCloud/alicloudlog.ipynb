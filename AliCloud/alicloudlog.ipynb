{
 "cells": [
  {
   "cell_type": "code",
   "execution_count": 1,
   "metadata": {
    "collapsed": true
   },
   "outputs": [],
   "source": [
    "import time\n",
    "from aliyun.log.logitem import LogItem\n",
    "from aliyun.log.logclient import LogClient\n",
    "from aliyun.log.getlogsrequest import GetLogsRequest\n",
    "from aliyun.log.putlogsrequest import PutLogsRequest\n",
    "from aliyun.log.listlogstoresrequest import ListLogstoresRequest\n",
    "from aliyun.log.gethistogramsrequest import GetHistogramsRequest\n",
    "import socket\n"
   ]
  },
  {
   "cell_type": "code",
   "execution_count": 2,
   "metadata": {
    "collapsed": true
   },
   "outputs": [],
   "source": [
    "#config\n",
    "endpoint=\"cn-hangzhou.log.aliyuncs.com\"\n",
    "keyid='LTAIcqoCdYnQNZVL'\n",
    "key='Bvz5gCXhtS5TDnN4Bd0zZngc0dffC8'\n",
    "project=\"tdbtest\"\n",
    "store=\"mytest1\""
   ]
  },
  {
   "cell_type": "code",
   "execution_count": 10,
   "metadata": {},
   "outputs": [
    {
     "name": "stdout",
     "output_type": "stream",
     "text": [
      "ListLogstoresResponse:\n",
      "('headers:', {'Content-Length': '46', 'Server': 'nginx/1.12.1', 'Connection': 'close', 'Date': 'Mon, 11 Dec 2017 03:47:25 GMT', 'Access-Control-Allow-Origin': '*', 'Content-Type': 'application/json', 'x-log-requestid': '5A2DFFCD42DB1519A785DE58'})\n",
      "('count:', 1)\n",
      "('total:', 1)\n",
      "('logstores:', ['mytest1'])\n"
     ]
    }
   ],
   "source": [
    "client=LogClient(endpoint,keyid,key)\n",
    "req1=ListLogstoresRequest(project)\n",
    "res=client.list_logstores(req1)\n",
    "res.log_print()"
   ]
  },
  {
   "cell_type": "code",
   "execution_count": 4,
   "metadata": {},
   "outputs": [
    {
     "name": "stdout",
     "output_type": "stream",
     "text": [
      "PutLogsResponse:\n",
      "('headers:', {'Content-Length': '0', 'Server': 'nginx/1.12.1', 'Connection': 'close', 'Date': 'Mon, 11 Dec 2017 03:44:11 GMT', 'Access-Control-Allow-Origin': '*', 'x-log-requestid': '5A2DFF0A4451C7F1ED8790CE'})\n",
      "PutLogsResponse:\n",
      "('headers:', {'Content-Length': '0', 'Server': 'nginx/1.12.1', 'Connection': 'close', 'Date': 'Mon, 11 Dec 2017 03:44:11 GMT', 'Access-Control-Allow-Origin': '*', 'x-log-requestid': '5A2DFF0B19BC50FDA99255AC'})\n",
      "PutLogsResponse:\n",
      "('headers:', {'Content-Length': '0', 'Server': 'nginx/1.12.1', 'Connection': 'close', 'Date': 'Mon, 11 Dec 2017 03:44:11 GMT', 'Access-Control-Allow-Origin': '*', 'x-log-requestid': '5A2DFF0B29E9FF942F8C08E7'})\n",
      "PutLogsResponse:\n",
      "('headers:', {'Content-Length': '0', 'Server': 'nginx/1.12.1', 'Connection': 'close', 'Date': 'Mon, 11 Dec 2017 03:44:12 GMT', 'Access-Control-Allow-Origin': '*', 'x-log-requestid': '5A2DFF0C1CB1259E0481335D'})\n",
      "PutLogsResponse:\n",
      "('headers:', {'Content-Length': '0', 'Server': 'nginx/1.12.1', 'Connection': 'close', 'Date': 'Mon, 11 Dec 2017 03:44:12 GMT', 'Access-Control-Allow-Origin': '*', 'x-log-requestid': '5A2DFF0C08535FDDCA85FB4A'})\n",
      "PutLogsResponse:\n",
      "('headers:', {'Content-Length': '0', 'Server': 'nginx/1.12.1', 'Connection': 'close', 'Date': 'Mon, 11 Dec 2017 03:44:12 GMT', 'Access-Control-Allow-Origin': '*', 'x-log-requestid': '5A2DFF0C4CEE8641DC8D6B0E'})\n",
      "PutLogsResponse:\n",
      "('headers:', {'Content-Length': '0', 'Server': 'nginx/1.12.1', 'Connection': 'close', 'Date': 'Mon, 11 Dec 2017 03:44:12 GMT', 'Access-Control-Allow-Origin': '*', 'x-log-requestid': '5A2DFF0C2CE41D51648E7B57'})\n",
      "PutLogsResponse:\n",
      "('headers:', {'Content-Length': '0', 'Server': 'nginx/1.12.1', 'Connection': 'close', 'Date': 'Mon, 11 Dec 2017 03:44:12 GMT', 'Access-Control-Allow-Origin': '*', 'x-log-requestid': '5A2DFF0CDC562599E7962E18'})\n",
      "PutLogsResponse:\n",
      "('headers:', {'Content-Length': '0', 'Server': 'nginx/1.12.1', 'Connection': 'close', 'Date': 'Mon, 11 Dec 2017 03:44:13 GMT', 'Access-Control-Allow-Origin': '*', 'x-log-requestid': '5A2DFF0DA9079FD2E588776A'})\n",
      "PutLogsResponse:\n",
      "('headers:', {'Content-Length': '0', 'Server': 'nginx/1.12.1', 'Connection': 'close', 'Date': 'Mon, 11 Dec 2017 03:44:18 GMT', 'Access-Control-Allow-Origin': '*', 'x-log-requestid': '5A2DFF12A6913900DC89B1D3'})\n"
     ]
    }
   ],
   "source": [
    "topic=\"mytest\"\n",
    "source=\"fangdelaptop\"\n",
    "\n",
    "for i in range (10):\n",
    "    logitemList=[]\n",
    "    for j in range(10):\n",
    "        contents=[('index',str(i*100+j))]\n",
    "        logItem=LogItem()\n",
    "        logItem.set_time(int(time.time()))\n",
    "        logItem.set_contents(contents)\n",
    "        logitemList.append(logItem)\n",
    "        \n",
    "    req2=PutLogsRequest(project,store,topic,source,logitemList)\n",
    "    \n",
    "    res2=client.put_logs(req2)\n",
    "    res2.log_print()\n",
    "        "
   ]
  },
  {
   "cell_type": "code",
   "execution_count": 5,
   "metadata": {},
   "outputs": [
    {
     "name": "stdout",
     "output_type": "stream",
     "text": [
      "ListLogstoresResponse:\n",
      "('headers:', {'Content-Length': '46', 'Server': 'nginx/1.12.1', 'Connection': 'close', 'Date': 'Mon, 11 Dec 2017 03:44:08 GMT', 'Access-Control-Allow-Origin': '*', 'Content-Type': 'application/json', 'x-log-requestid': '5A2DFF08A9079FD0E58D6100'})\n",
      "('count:', 1)\n",
      "('total:', 1)\n",
      "('logstores:', ['mytest1'])\n"
     ]
    }
   ],
   "source": [
    "res.log_print()"
   ]
  },
  {
   "cell_type": "code",
   "execution_count": 30,
   "metadata": {
    "collapsed": true
   },
   "outputs": [],
   "source": [
    "class LogStore(object):\n",
    "    \n",
    "    def __init__(self,name):\n",
    "        self.topic=name\n",
    "        self.client=LogClient(endpoint,keyid,key)\n",
    "        req1=ListLogstoresRequest(project)\n",
    "        res=client.list_logstores(req1)\n",
    "        res.log_print()\n",
    "        \n",
    "    def insert_one(self,args):\n",
    "        \n",
    "        logitem=LogItem()\n",
    "        \n",
    "        tn=args['timeStamp']\n",
    "        tmstamp=int(time.mktime(tn.timetuple()))\n",
    "        del args['timeStamp']\n",
    "                    \n",
    "\n",
    "        cts=[(key,args[key]) for key in args]\n",
    "        \n",
    "        logitem.set_time(tmstamp)\n",
    "        logitem.set_contents(cts)\n",
    "        \n",
    "        req2=PutLogsRequest(project,store,self.topic,socket.gethostname(),[logitem])\n",
    "        res2=client.put_logs(req2)\n",
    "        res2.log_print()\n",
    "    "
   ]
  },
  {
   "cell_type": "code",
   "execution_count": 31,
   "metadata": {},
   "outputs": [
    {
     "name": "stdout",
     "output_type": "stream",
     "text": [
      "ListLogstoresResponse:\n",
      "('headers:', {'Content-Length': '46', 'Server': 'nginx/1.12.1', 'Connection': 'close', 'Date': 'Mon, 11 Dec 2017 03:58:13 GMT', 'Access-Control-Allow-Origin': '*', 'Content-Type': 'application/json', 'x-log-requestid': '5A2E025521DF070DB2B2DD4E'})\n",
      "('count:', 1)\n",
      "('total:', 1)\n",
      "('logstores:', ['mytest1'])\n"
     ]
    },
    {
     "ename": "AttributeError",
     "evalue": "'LogStore' object has no attribute 'topic'",
     "output_type": "error",
     "traceback": [
      "\u001b[0;31m---------------------------------------------------------------------------\u001b[0m",
      "\u001b[0;31mAttributeError\u001b[0m                            Traceback (most recent call last)",
      "\u001b[0;32m<ipython-input-31-b48f0c1cfbe0>\u001b[0m in \u001b[0;36m<module>\u001b[0;34m()\u001b[0m\n\u001b[1;32m      3\u001b[0m \u001b[0;32mimport\u001b[0m \u001b[0msocket\u001b[0m\u001b[0;34m\u001b[0m\u001b[0m\n\u001b[1;32m      4\u001b[0m \u001b[0margs\u001b[0m\u001b[0;34m=\u001b[0m\u001b[0;34m{\u001b[0m\u001b[0;34m'timeStamp'\u001b[0m\u001b[0;34m:\u001b[0m\u001b[0mdatetime\u001b[0m\u001b[0;34m.\u001b[0m\u001b[0mdatetime\u001b[0m\u001b[0;34m.\u001b[0m\u001b[0mutcnow\u001b[0m\u001b[0;34m(\u001b[0m\u001b[0;34m)\u001b[0m\u001b[0;34m,\u001b[0m\u001b[0;34m'studyID'\u001b[0m\u001b[0;34m:\u001b[0m\u001b[0;34m\"mytest\"\u001b[0m\u001b[0;34m,\u001b[0m\u001b[0;34m'acc'\u001b[0m\u001b[0;34m:\u001b[0m\u001b[0;36m9.8\u001b[0m\u001b[0;34m}\u001b[0m\u001b[0;34m\u001b[0m\u001b[0m\n\u001b[0;32m----> 5\u001b[0;31m \u001b[0mlogdb\u001b[0m\u001b[0;34m.\u001b[0m\u001b[0minsert_one\u001b[0m\u001b[0;34m(\u001b[0m\u001b[0margs\u001b[0m\u001b[0;34m)\u001b[0m\u001b[0;34m\u001b[0m\u001b[0m\n\u001b[0m",
      "\u001b[0;32m<ipython-input-30-2751c91915fb>\u001b[0m in \u001b[0;36minsert_one\u001b[0;34m(self, args)\u001b[0m\n\u001b[1;32m     22\u001b[0m         \u001b[0mlogitem\u001b[0m\u001b[0;34m.\u001b[0m\u001b[0mset_contents\u001b[0m\u001b[0;34m(\u001b[0m\u001b[0mcts\u001b[0m\u001b[0;34m)\u001b[0m\u001b[0;34m\u001b[0m\u001b[0m\n\u001b[1;32m     23\u001b[0m \u001b[0;34m\u001b[0m\u001b[0m\n\u001b[0;32m---> 24\u001b[0;31m         \u001b[0mreq2\u001b[0m\u001b[0;34m=\u001b[0m\u001b[0mPutLogsRequest\u001b[0m\u001b[0;34m(\u001b[0m\u001b[0mproject\u001b[0m\u001b[0;34m,\u001b[0m\u001b[0mstore\u001b[0m\u001b[0;34m,\u001b[0m\u001b[0mself\u001b[0m\u001b[0;34m.\u001b[0m\u001b[0mtopic\u001b[0m\u001b[0;34m,\u001b[0m\u001b[0msocket\u001b[0m\u001b[0;34m.\u001b[0m\u001b[0mgethostname\u001b[0m\u001b[0;34m(\u001b[0m\u001b[0;34m)\u001b[0m\u001b[0;34m,\u001b[0m\u001b[0;34m[\u001b[0m\u001b[0mlogitem\u001b[0m\u001b[0;34m]\u001b[0m\u001b[0;34m)\u001b[0m\u001b[0;34m\u001b[0m\u001b[0m\n\u001b[0m\u001b[1;32m     25\u001b[0m         \u001b[0mres2\u001b[0m\u001b[0;34m=\u001b[0m\u001b[0mclient\u001b[0m\u001b[0;34m.\u001b[0m\u001b[0mput_logs\u001b[0m\u001b[0;34m(\u001b[0m\u001b[0mreq2\u001b[0m\u001b[0;34m)\u001b[0m\u001b[0;34m\u001b[0m\u001b[0m\n\u001b[1;32m     26\u001b[0m         \u001b[0mres2\u001b[0m\u001b[0;34m.\u001b[0m\u001b[0mlog_print\u001b[0m\u001b[0;34m(\u001b[0m\u001b[0;34m)\u001b[0m\u001b[0;34m\u001b[0m\u001b[0m\n",
      "\u001b[0;31mAttributeError\u001b[0m: 'LogStore' object has no attribute 'topic'"
     ]
    }
   ],
   "source": [
    "#mytest logstore\n",
    "logdb=LogStore('mytest')\n",
    "import socket\n",
    "args={'timeStamp':datetime.datetime.utcnow(),'studyID':\"mytest\",'acc':9.8}\n",
    "logdb.insert_one(args)"
   ]
  },
  {
   "cell_type": "code",
   "execution_count": 19,
   "metadata": {},
   "outputs": [
    {
     "name": "stdout",
     "output_type": "stream",
     "text": [
      "<type 'datetime.datetime'>\n"
     ]
    },
    {
     "data": {
      "text/plain": [
       "1512935655"
      ]
     },
     "execution_count": 19,
     "metadata": {},
     "output_type": "execute_result"
    }
   ],
   "source": [
    "import datetime\n",
    "import time\n",
    "\n",
    "\n",
    "tn=datetime.datetime.utcnow()\n",
    "print type(tn)\n",
    "int (time.mktime(tn.timetuple()))"
   ]
  },
  {
   "cell_type": "code",
   "execution_count": 8,
   "metadata": {
    "collapsed": true
   },
   "outputs": [],
   "source": [
    "lt=LogItem()\n",
    "?lt"
   ]
  },
  {
   "cell_type": "code",
   "execution_count": null,
   "metadata": {
    "collapsed": true
   },
   "outputs": [],
   "source": []
  }
 ],
 "metadata": {
  "kernelspec": {
   "display_name": "Python [default]",
   "language": "python",
   "name": "python2"
  },
  "language_info": {
   "codemirror_mode": {
    "name": "ipython",
    "version": 2
   },
   "file_extension": ".py",
   "mimetype": "text/x-python",
   "name": "python",
   "nbconvert_exporter": "python",
   "pygments_lexer": "ipython2",
   "version": "2.7.13"
  }
 },
 "nbformat": 4,
 "nbformat_minor": 2
}
