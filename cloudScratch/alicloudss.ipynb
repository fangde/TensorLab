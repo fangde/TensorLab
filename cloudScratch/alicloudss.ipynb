{
 "cells": [
  {
   "cell_type": "code",
   "execution_count": 1,
   "metadata": {
    "collapsed": true
   },
   "outputs": [],
   "source": [
    "import oss2\n",
    "import tablestore\n",
    "\n",
    "keyid='LTAIcqoCdYnQNZVL'\n",
    "key='Bvz5gCXhtS5TDnN4Bd0zZngc0dffC8'"
   ]
  },
  {
   "cell_type": "code",
   "execution_count": 2,
   "metadata": {
    "collapsed": true
   },
   "outputs": [],
   "source": [
    "from tablestore import *\n",
    "\n"
   ]
  },
  {
   "cell_type": "code",
   "execution_count": 3,
   "metadata": {},
   "outputs": [
    {
     "name": "stdout",
     "output_type": "stream",
     "text": [
      "<oss2.api.Bucket object at 0x7f942a5e6f90>\n"
     ]
    }
   ],
   "source": [
    "auth=oss2.Auth(keyid,key)\n",
    "endpoint = 'http://oss-cn-hangzhou.aliyuncs.com'\n",
    "\n",
    "bucket = oss2.Bucket(auth, endpoint, 'fangdebackup')\n",
    "\n",
    "\n",
    "print bucket\n"
   ]
  },
  {
   "cell_type": "code",
   "execution_count": 4,
   "metadata": {},
   "outputs": [
    {
     "name": "stdout",
     "output_type": "stream",
     "text": [
      "ColorMask.m\n",
      "ContourProcess.m\n",
      "CuratedCountourTest.m\n",
      "ETL.m\n",
      "ETLMultipleVolume.m\n",
      "ExtractPatchs.m\n",
      "Knee Images/\n",
      "Knee Images/01 CT.zip\n",
      "Knee Images/01 CT/\n",
      "Knee Images/01 CT/CT000000\n"
     ]
    }
   ],
   "source": [
    "from itertools import islice\n",
    "for b in islice(oss2.ObjectIterator(bucket), 10):\n",
    "    print(b.key)"
   ]
  },
  {
   "cell_type": "code",
   "execution_count": null,
   "metadata": {
    "collapsed": true
   },
   "outputs": [],
   "source": [
    "ost_clinet=OTSClient()"
   ]
  }
 ],
 "metadata": {
  "kernelspec": {
   "display_name": "Python [default]",
   "language": "python",
   "name": "python2"
  },
  "language_info": {
   "codemirror_mode": {
    "name": "ipython",
    "version": 2
   },
   "file_extension": ".py",
   "mimetype": "text/x-python",
   "name": "python",
   "nbconvert_exporter": "python",
   "pygments_lexer": "ipython2",
   "version": "2.7.13"
  }
 },
 "nbformat": 4,
 "nbformat_minor": 2
}
