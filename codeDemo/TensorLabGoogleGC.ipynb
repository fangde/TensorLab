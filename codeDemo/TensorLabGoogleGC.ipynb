{
 "cells": [
  {
   "cell_type": "code",
   "execution_count": 1,
   "metadata": {
    "collapsed": false
   },
   "outputs": [
    {
     "name": "stdout",
     "output_type": "stream",
     "text": [
      "<MnistDB.MnistDB instance at 0x7f959921fb48>\n",
      "0.0419321060181\n",
      "reading time\n",
      "0.168601036072\n",
      "des time \n",
      "0.0382828712463\n",
      "TotalTime\n",
      "0.206963062286\n",
      "500\n",
      "0.242549180984\n",
      "training reading\n",
      "0.028795003891\n"
     ]
    }
   ],
   "source": [
    "from MnistDB import MnistDB\n",
    "mb=MnistDB(port=27018)\n",
    "\n",
    "print mb\n",
    "d,l=mb.find_data()"
   ]
  },
  {
   "cell_type": "code",
   "execution_count": 2,
   "metadata": {
    "collapsed": false
   },
   "outputs": [],
   "source": [
    "from TensorDBGoogle import TensorDB\n",
    "db=TensorDB(studyID=\"myGreate\")"
   ]
  },
  {
   "cell_type": "code",
   "execution_count": 3,
   "metadata": {
    "collapsed": false
   },
   "outputs": [
    {
     "name": "stdout",
     "output_type": "stream",
     "text": [
      "  [TL] InputLayer  study22/input_layer: (?, 784)\n",
      "  [TL] DropoutLayer study22/drop1: keep:0.800000 is_fix:False\n",
      "  [TL] DenseLayer  study22/relu1: 800 relu\n",
      "  [TL] DropoutLayer study22/drop2: keep:0.500000 is_fix:False\n",
      "  [TL] DenseLayer  study22/relu2: 800 relu\n",
      "  [TL] DropoutLayer study22/drop3: keep:0.500000 is_fix:False\n",
      "  [TL] DenseLayer  study22/output_layer: 10 identity\n",
      "  param   0: (784, 800)      (mean: -9.84159396467e-06, median: 2.42332280322e-05 , std: 0.0880463495851   )   study22/relu1/W:0\n",
      "  param   1: (800,)          (mean: 0.0               , median: 0.0               , std: 0.0               )   study22/relu1/b:0\n",
      "  param   2: (800, 800)      (mean: -3.22123378282e-05, median: -7.25962090655e-05, std: 0.0880452916026   )   study22/relu2/W:0\n",
      "  param   3: (800,)          (mean: 0.0               , median: 0.0               , std: 0.0               )   study22/relu2/b:0\n",
      "  param   4: (800, 10)       (mean: -0.00113413319923 , median: -0.000950252928305, std: 0.0883067548275   )   study22/output_layer/W:0\n",
      "  param   5: (10,)           (mean: 0.0               , median: 0.0               , std: 0.0               )   study22/output_layer/b:0\n",
      "  num of params: 1276810\n",
      "  layer 0: Tensor(\"study22/drop1/mul:0\", shape=(?, 784), dtype=float32)\n",
      "  layer 1: Tensor(\"study22/relu1/Relu:0\", shape=(?, 800), dtype=float32)\n",
      "  layer 2: Tensor(\"study22/drop2/mul:0\", shape=(?, 800), dtype=float32)\n",
      "  layer 3: Tensor(\"study22/relu2/Relu:0\", shape=(?, 800), dtype=float32)\n",
      "  layer 4: Tensor(\"study22/drop3/mul:0\", shape=(?, 800), dtype=float32)\n",
      "  layer 5: Tensor(\"study22/output_layer/Identity:0\", shape=(?, 10), dtype=float32)\n",
      "start\n",
      "ending\n",
      "0\n",
      "{'stepTime': 1.8860478401184082, 'epoch': 0, 'time': datetime.datetime(2017, 6, 29, 15, 38, 49, 472940)}\n",
      "{'epoch': 0, 'time': datetime.datetime(2017, 6, 29, 15, 38, 50, 583734), 'stepTime': 1.8860478401184082, 'f_id': '0be2ee06-5ce1-11e7-a429-708bcd54e374.npz', 'id': 'myGreate:0:2017-06-29T15:38:50.583734', 'studyID': 'myGreate'}\n",
      "[TensorDB] Save params: SUCCESS, took: 1.33s\n",
      "[TensorDB] ValidLog: epoch: 0 / params: 0be2ee06-5ce1-11e7-a429-708bcd54e374.npz / time: 2017-06-29 15:38:50.583734 / stepTime: 1.88604784012 / f_id: 0be2ee06-5ce1-11e7-a429-708bcd54e374.npz / studyID: myGreate / \n",
      "ending\n",
      "1\n",
      "{'stepTime': 1.3168790340423584, 'epoch': 1, 'time': datetime.datetime(2017, 6, 29, 15, 38, 52, 352789)}\n",
      "{'epoch': 1, 'time': datetime.datetime(2017, 6, 29, 15, 38, 53, 276685), 'stepTime': 1.3168790340423584, 'f_id': '0d98c5fe-5ce1-11e7-a429-708bcd54e374.npz', 'id': 'myGreate:1:2017-06-29T15:38:53.276685', 'studyID': 'myGreate'}\n",
      "[TensorDB] Save params: SUCCESS, took: 1.15s\n",
      "[TensorDB] ValidLog: epoch: 1 / params: 0d98c5fe-5ce1-11e7-a429-708bcd54e374.npz / time: 2017-06-29 15:38:53.276685 / stepTime: 1.31687903404 / f_id: 0d98c5fe-5ce1-11e7-a429-708bcd54e374.npz / studyID: myGreate / \n",
      "ending\n",
      "2\n",
      "{'stepTime': 1.4891691207885742, 'epoch': 2, 'time': datetime.datetime(2017, 6, 29, 15, 38, 55, 246310)}\n",
      "{'epoch': 2, 'time': datetime.datetime(2017, 6, 29, 15, 38, 56, 257998), 'stepTime': 1.4891691207885742, 'f_id': '0f533cee-5ce1-11e7-a429-708bcd54e374.npz', 'id': 'myGreate:2:2017-06-29T15:38:56.257998', 'studyID': 'myGreate'}\n",
      "[TensorDB] Save params: SUCCESS, took: 1.25s\n",
      "[TensorDB] ValidLog: epoch: 2 / params: 0f533cee-5ce1-11e7-a429-708bcd54e374.npz / time: 2017-06-29 15:38:56.257998 / stepTime: 1.48916912079 / f_id: 0f533cee-5ce1-11e7-a429-708bcd54e374.npz / studyID: myGreate / \n",
      "ending\n",
      "3\n",
      "{'stepTime': 1.1629221439361572, 'epoch': 3, 'time': datetime.datetime(2017, 6, 29, 15, 38, 58, 32331)}\n",
      "{'epoch': 3, 'time': datetime.datetime(2017, 6, 29, 15, 38, 59, 92990), 'stepTime': 1.1629221439361572, 'f_id': '10fc1dfe-5ce1-11e7-a429-708bcd54e374.npz', 'id': 'myGreate:3:2017-06-29T15:38:59.092990', 'studyID': 'myGreate'}\n",
      "[TensorDB] Save params: SUCCESS, took: 1.3s\n",
      "[TensorDB] ValidLog: epoch: 3 / params: 10fc1dfe-5ce1-11e7-a429-708bcd54e374.npz / time: 2017-06-29 15:38:59.092990 / stepTime: 1.16292214394 / f_id: 10fc1dfe-5ce1-11e7-a429-708bcd54e374.npz / studyID: myGreate / \n",
      "ending\n",
      "4\n",
      "{'stepTime': 1.2228891849517822, 'epoch': 4, 'time': datetime.datetime(2017, 6, 29, 15, 39, 0, 771502)}\n",
      "{'epoch': 4, 'time': datetime.datetime(2017, 6, 29, 15, 39, 1, 685510), 'stepTime': 1.2228891849517822, 'f_id': '129e3e8a-5ce1-11e7-a429-708bcd54e374.npz', 'id': 'myGreate:4:2017-06-29T15:39:01.685510', 'studyID': 'myGreate'}\n",
      "[TensorDB] Save params: SUCCESS, took: 1.24s\n",
      "[TensorDB] ValidLog: epoch: 4 / params: 129e3e8a-5ce1-11e7-a429-708bcd54e374.npz / time: 2017-06-29 15:39:01.685510 / stepTime: 1.22288918495 / f_id: 129e3e8a-5ce1-11e7-a429-708bcd54e374.npz / studyID: myGreate / \n",
      "ending\n",
      "5\n",
      "{'stepTime': 1.2625250816345215, 'epoch': 5, 'time': datetime.datetime(2017, 6, 29, 15, 39, 3, 531657)}\n",
      "{'epoch': 5, 'time': datetime.datetime(2017, 6, 29, 15, 39, 4, 427529), 'stepTime': 1.2625250816345215, 'f_id': '14430518-5ce1-11e7-a429-708bcd54e374.npz', 'id': 'myGreate:5:2017-06-29T15:39:04.427529', 'studyID': 'myGreate'}\n",
      "[TensorDB] Save params: SUCCESS, took: 1.24s\n",
      "[TensorDB] ValidLog: epoch: 5 / params: 14430518-5ce1-11e7-a429-708bcd54e374.npz / time: 2017-06-29 15:39:04.427529 / stepTime: 1.26252508163 / f_id: 14430518-5ce1-11e7-a429-708bcd54e374.npz / studyID: myGreate / \n",
      "ending\n",
      "6\n",
      "{'stepTime': 1.20290207862854, 'epoch': 6, 'time': datetime.datetime(2017, 6, 29, 15, 39, 6, 189720)}\n",
      "{'epoch': 6, 'time': datetime.datetime(2017, 6, 29, 15, 39, 7, 172292), 'stepTime': 1.20290207862854, 'f_id': '15d8c9e4-5ce1-11e7-a429-708bcd54e374.npz', 'id': 'myGreate:6:2017-06-29T15:39:07.172292', 'studyID': 'myGreate'}\n",
      "[TensorDB] Save params: SUCCESS, took: 1.19s\n",
      "[TensorDB] ValidLog: epoch: 6 / params: 15d8c9e4-5ce1-11e7-a429-708bcd54e374.npz / time: 2017-06-29 15:39:07.172292 / stepTime: 1.20290207863 / f_id: 15d8c9e4-5ce1-11e7-a429-708bcd54e374.npz / studyID: myGreate / \n",
      "ending\n",
      "7\n",
      "{'stepTime': 1.298719882965088, 'epoch': 7, 'time': datetime.datetime(2017, 6, 29, 15, 39, 9, 4281)}\n",
      "{'epoch': 7, 'time': datetime.datetime(2017, 6, 29, 15, 39, 9, 879885), 'stepTime': 1.298719882965088, 'f_id': '17866288-5ce1-11e7-a429-708bcd54e374.npz', 'id': 'myGreate:7:2017-06-29T15:39:09.879885', 'studyID': 'myGreate'}\n",
      "[TensorDB] Save params: SUCCESS, took: 1.17s\n",
      "[TensorDB] ValidLog: epoch: 7 / params: 17866288-5ce1-11e7-a429-708bcd54e374.npz / time: 2017-06-29 15:39:09.879885 / stepTime: 1.29871988297 / f_id: 17866288-5ce1-11e7-a429-708bcd54e374.npz / studyID: myGreate / \n",
      "ending\n",
      "8\n",
      "{'stepTime': 1.3483490943908691, 'epoch': 8, 'time': datetime.datetime(2017, 6, 29, 15, 39, 11, 788462)}\n",
      "{'epoch': 8, 'time': datetime.datetime(2017, 6, 29, 15, 39, 12, 697042), 'stepTime': 1.3483490943908691, 'f_id': '192f36b4-5ce1-11e7-a429-708bcd54e374.npz', 'id': 'myGreate:8:2017-06-29T15:39:12.697042', 'studyID': 'myGreate'}\n",
      "[TensorDB] Save params: SUCCESS, took: 1.17s\n",
      "[TensorDB] ValidLog: epoch: 8 / params: 192f36b4-5ce1-11e7-a429-708bcd54e374.npz / time: 2017-06-29 15:39:12.697042 / stepTime: 1.34834909439 / f_id: 192f36b4-5ce1-11e7-a429-708bcd54e374.npz / studyID: myGreate / \n",
      "ending\n",
      "9\n",
      "{'stepTime': 1.2599990367889404, 'epoch': 9, 'time': datetime.datetime(2017, 6, 29, 15, 39, 14, 577951)}\n",
      "{'epoch': 9, 'time': datetime.datetime(2017, 6, 29, 15, 39, 15, 572305), 'stepTime': 1.2599990367889404, 'f_id': '1ad8bf3a-5ce1-11e7-a429-708bcd54e374.npz', 'id': 'myGreate:9:2017-06-29T15:39:15.572305', 'studyID': 'myGreate'}\n",
      "[TensorDB] Save params: SUCCESS, took: 1.21s\n",
      "[TensorDB] ValidLog: epoch: 9 / params: 1ad8bf3a-5ce1-11e7-a429-708bcd54e374.npz / time: 2017-06-29 15:39:15.572305 / stepTime: 1.25999903679 / f_id: 1ad8bf3a-5ce1-11e7-a429-708bcd54e374.npz / studyID: myGreate / \n",
      "end\n"
     ]
    }
   ],
   "source": [
    "import net_builder\n",
    "from Model import Model\n",
    "\n",
    "\n",
    "from TensorDBGoogle import DBLogger\n",
    "\n",
    "\n",
    "#db.save_model_architecture(code,{'name':\"mlp\"})\n",
    "\n",
    "\n",
    "\n",
    "#exec code\n",
    "m=Model(net_builder.build_network,name=\"study22\",reuse=False)\n",
    "m.fit(10,d,l,100,[DBLogger(db,m)])"
   ]
  },
  {
   "cell_type": "code",
   "execution_count": 5,
   "metadata": {
    "collapsed": false
   },
   "outputs": [
    {
     "ename": "AttributeError",
     "evalue": "'TensorDB' object has no attribute 'StudyID'",
     "traceback": [
      "\u001b[1;31m---------------------------------------------------------------------------\u001b[0m",
      "\u001b[1;31mAttributeError\u001b[0m                            Traceback (most recent call last)",
      "\u001b[1;32m<ipython-input-5-ecb84cac758e>\u001b[0m in \u001b[0;36m<module>\u001b[1;34m()\u001b[0m\n\u001b[1;32m----> 1\u001b[1;33m \u001b[0mdb\u001b[0m\u001b[1;33m.\u001b[0m\u001b[0mStudyID\u001b[0m\u001b[1;33m\u001b[0m\u001b[0m\n\u001b[0m",
      "\u001b[1;31mAttributeError\u001b[0m: 'TensorDB' object has no attribute 'StudyID'"
     ],
     "output_type": "error"
    }
   ],
   "source": [
    "db."
   ]
  },
  {
   "cell_type": "code",
   "execution_count": null,
   "metadata": {
    "collapsed": false
   },
   "outputs": [],
   "source": [
    "#job\n",
    "for i in range(100):\n",
    "    db.push_job({\"name\":\"mlp\"},{\"epoch\":9},{\"type\":\"train\"},10)\n",
    "    db.push_job({\"name\":\"mlp\"},{\"epoch\":9},{\"type\":\"train\"},10)\n",
    "    db.push_job({\"name\":\"mlp\"},{\"epoch\":9},{\"type\":\"val\"},10)\n",
    "    db.push_job({\"name\":\"mlp\"},{\"epoch\":9},{\"type\":\"val\"},10)\n",
    "    db.push_job({\"name\":\"mlp\"},{\"epoch\":9},{\"type\":\"val\"},10)\n",
    "    db.push_job({\"name\":\"mlp\"},{\"epoch\":9},{\"type\":\"val\"},10)"
   ]
  },
  {
   "cell_type": "code",
   "execution_count": null,
   "metadata": {
    "collapsed": false
   },
   "outputs": [],
   "source": [
    "import tensorflow as tf\n",
    "import tensorlayer as tl\n",
    "import time\n",
    "import uuid\n",
    "\n",
    "\n",
    "def run_job(db,mb):\n",
    "    if db.peek_job():\n",
    "        j, m, w, darg, ep=db.peek_job()\n",
    "\n",
    "        print ep\n",
    "        print type(darg)\n",
    "\n",
    "        db.run_job(j)\n",
    "        exec m\n",
    "        mm=Model(name=str(uuid.uuid1()),reuse=False)\n",
    "        mm.Params=w;\n",
    "        x,y=mb.find_data(darg)\n",
    "        mm.fit(ep,x,y,100,[DBLogger(db,mm)])\n",
    "        del mm\n",
    "        db.del_job(j)\n",
    "        return True\n",
    "    \n",
    "    return False\n",
    "\n",
    "while run_job(db,mb):\n",
    "    print \"new job is done\""
   ]
  }
 ],
 "metadata": {
  "kernelspec": {
   "display_name": "Python [Root]",
   "language": "python",
   "name": "Python [Root]"
  },
  "language_info": {
   "codemirror_mode": {
    "name": "ipython",
    "version": 2.0
   },
   "file_extension": ".py",
   "mimetype": "text/x-python",
   "name": "python",
   "nbconvert_exporter": "python",
   "pygments_lexer": "ipython2",
   "version": "2.7.12"
  }
 },
 "nbformat": 4,
 "nbformat_minor": 0
}